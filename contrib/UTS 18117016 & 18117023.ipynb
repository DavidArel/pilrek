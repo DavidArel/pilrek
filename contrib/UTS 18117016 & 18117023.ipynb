{
 "cells": [
  {
   "cell_type": "code",
   "execution_count": 204,
   "metadata": {},
   "outputs": [],
   "source": [
    "import pandas as pd\n",
    "import numpy as np"
   ]
  },
  {
   "cell_type": "code",
   "execution_count": 205,
   "metadata": {},
   "outputs": [],
   "source": [
    "url = 'pilrek-anon.csv'\n",
    "df  = pd.read_csv(url)"
   ]
  },
  {
   "cell_type": "code",
   "execution_count": 206,
   "metadata": {},
   "outputs": [],
   "source": [
    "import matplotlib.pyplot as plt\n",
    "%matplotlib inline"
   ]
  },
  {
   "cell_type": "code",
   "execution_count": 234,
   "metadata": {},
   "outputs": [],
   "source": [
    "CaRek_10 = df['CaRek Pilihan'].value_counts().loc[['Kadarsah Suryadi (FTI-TI)','Edy Tri Baskoro (FMIPA-MA)','Benyamin Sapiie (FITB)','Bramantyo (Direktur PPM Manajemen)','Dwi Larso (SBM / President Univ)','Gusti Ayu Putri Saptawati S (STEI)','Jaka Sembiring (STEI)','Reini D Wirahadikusumah (FTSL)','Togar M Simatupang (SBM)','Widjaja Martokusumo (SAPPK)']]\n",
    "CaRek_Maju = df['CaRek Pilihan'].value_counts()"
   ]
  },
  {
   "cell_type": "code",
   "execution_count": 208,
   "metadata": {},
   "outputs": [
    {
     "data": {
      "text/plain": [
       "<matplotlib.axes._subplots.AxesSubplot at 0x2309f025358>"
      ]
     },
     "execution_count": 208,
     "metadata": {},
     "output_type": "execute_result"
    },
    {
     "data": {
      "image/png": "[encoded data removed]",
      "text/plain": [
       "<Figure size 432x288 with 1 Axes>"
      ]
     },
     "metadata": {
      "needs_background": "light"
     },
     "output_type": "display_data"
    }
   ],
   "source": [
    "CaRek_10.plot.box(vert = False, whis = 20)"
   ]
  },
  {
   "cell_type": "code",
   "execution_count": 278,
   "metadata": {},
   "outputs": [],
   "source": [
    "a = df[['CaRek Pilihan','Alasan Memilih CaRek']]\n",
    "kad = a[df['CaRek Pilihan'] == 'Kadarsah Suryadi (FTI-TI)']\n",
    "edy = a[df['CaRek Pilihan'] == 'Edy Tri Baskoro (FMIPA-MA)']\n",
    "ben = a[df['CaRek Pilihan'] == 'Benyamin Sapiie (FITB)']\n",
    "brm = a[df['CaRek Pilihan'] == 'Bramantyo (Direktur PPM Manajemen)']\n",
    "dwi = a[df['CaRek Pilihan'] == 'Dwi Larso (SBM / President Univ)']\n",
    "gus = a[df['CaRek Pilihan'] == 'Gusti Ayu Putri Saptawati S (STEI)']\n",
    "jak = a[df['CaRek Pilihan'] == 'Jaka Sembiring (STEI)']\n",
    "rei = a[df['CaRek Pilihan'] == 'Reini D Wirahadikusumah (FTSL)']\n",
    "tog = a[df['CaRek Pilihan'] == 'Togar M Simatupang (SBM)']\n",
    "wid = a[df['CaRek Pilihan'] == 'Widjaja Martokusumo (SAPPK)']\n",
    "x = pd.concat([kad,edy, ben, brm, dwi, gus, jak, rei, tog, wid])"
   ]
  },
  {
   "cell_type": "code",
   "execution_count": 279,
   "metadata": {},
   "outputs": [
    {
     "data": {
      "text/plain": [
       "Text(0, 0.5, '')"
      ]
     },
     "execution_count": 279,
     "metadata": {},
     "output_type": "execute_result"
    },
    {
     "data": {
      "image/png": "[encoded data removed]",
      "text/plain": [
       "<Figure size 432x288 with 1 Axes>"
      ]
     },
     "metadata": {},
     "output_type": "display_data"
    }
   ],
   "source": [
    "ax = x['Alasan Memilih CaRek'].value_counts().head(5).plot(kind='pie',autopct='%1.1f%%')\n",
    "ax.set_ylabel('')"
   ]
  },
  {
   "cell_type": "code",
   "execution_count": null,
   "metadata": {},
   "outputs": [],
   "source": []
  },
  {
   "cell_type": "code",
   "execution_count": 296,
   "metadata": {},
   "outputs": [],
   "source": [
    "a = df[['CaRek Pilihan','Harapan Anda']]\n",
    "kad = a[df['CaRek Pilihan'] == 'Kadarsah Suryadi (FTI-TI)']\n",
    "edy = a[df['CaRek Pilihan'] == 'Edy Tri Baskoro (FMIPA-MA)']\n",
    "ben = a[df['CaRek Pilihan'] == 'Benyamin Sapiie (FITB)']\n",
    "brm = a[df['CaRek Pilihan'] == 'Bramantyo (Direktur PPM Manajemen)']\n",
    "dwi = a[df['CaRek Pilihan'] == 'Dwi Larso (SBM / President Univ)']\n",
    "gus = a[df['CaRek Pilihan'] == 'Gusti Ayu Putri Saptawati S (STEI)']\n",
    "jak = a[df['CaRek Pilihan'] == 'Jaka Sembiring (STEI)']\n",
    "rei = a[df['CaRek Pilihan'] == 'Reini D Wirahadikusumah (FTSL)']\n",
    "tog = a[df['CaRek Pilihan'] == 'Togar M Simatupang (SBM)']\n",
    "wid = a[df['CaRek Pilihan'] == 'Widjaja Martokusumo (SAPPK)']\n",
    "x = pd.concat([kad,edy, ben, brm, dwi, gus, jak, rei, tog, wid]).fillna('unknown')"
   ]
  },
  {
   "cell_type": "code",
   "execution_count": 313,
   "metadata": {},
   "outputs": [
    {
     "data": {
      "text/plain": [
       "CaRek Pilihan    0.811146\n",
       "Harapan Anda     0.811146\n",
       "dtype: float64"
      ]
     },
     "execution_count": 313,
     "metadata": {},
     "output_type": "execute_result"
    }
   ],
   "source": [
    "kadi = kad.fillna('unknown')\n",
    "kadi[kadi['Harapan Anda'] == 'unknown'].count()/kadi.count()"
   ]
  },
  {
   "cell_type": "code",
   "execution_count": 317,
   "metadata": {},
   "outputs": [
    {
     "data": {
      "text/plain": [
       "CaRek Pilihan    0.54067\n",
       "Harapan Anda     0.54067\n",
       "dtype: float64"
      ]
     },
     "execution_count": 317,
     "metadata": {},
     "output_type": "execute_result"
    }
   ],
   "source": [
    "edyi = edy.fillna('unknown')\n",
    "edyi[edyi['Harapan Anda'] == 'unknown'].count()/edyi.count()"
   ]
  },
  {
   "cell_type": "code",
   "execution_count": 318,
   "metadata": {},
   "outputs": [
    {
     "data": {
      "text/plain": [
       "CaRek Pilihan    0.54\n",
       "Harapan Anda     0.54\n",
       "dtype: float64"
      ]
     },
     "execution_count": 318,
     "metadata": {},
     "output_type": "execute_result"
    }
   ],
   "source": [
    "beni = ben.fillna('unknown')\n",
    "beni[beni['Harapan Anda'] == 'unknown'].count()/beni.count()"
   ]
  },
  {
   "cell_type": "code",
   "execution_count": 319,
   "metadata": {},
   "outputs": [
    {
     "data": {
      "text/plain": [
       "CaRek Pilihan    0.404762\n",
       "Harapan Anda     0.404762\n",
       "dtype: float64"
      ]
     },
     "execution_count": 319,
     "metadata": {},
     "output_type": "execute_result"
    }
   ],
   "source": [
    "brmi = brm.fillna('unknown')\n",
    "brmi[brmi['Harapan Anda'] == 'unknown'].count()/brmi.count()"
   ]
  },
  {
   "cell_type": "code",
   "execution_count": 320,
   "metadata": {},
   "outputs": [
    {
     "data": {
      "text/plain": [
       "CaRek Pilihan    0.333333\n",
       "Harapan Anda     0.333333\n",
       "dtype: float64"
      ]
     },
     "execution_count": 320,
     "metadata": {},
     "output_type": "execute_result"
    }
   ],
   "source": [
    "dwii = dwi.fillna('unknown')\n",
    "dwii[dwii['Harapan Anda'] == 'unknown'].count()/dwii.count()"
   ]
  },
  {
   "cell_type": "code",
   "execution_count": 321,
   "metadata": {},
   "outputs": [
    {
     "data": {
      "text/plain": [
       "CaRek Pilihan    0.444444\n",
       "Harapan Anda     0.444444\n",
       "dtype: float64"
      ]
     },
     "execution_count": 321,
     "metadata": {},
     "output_type": "execute_result"
    }
   ],
   "source": [
    "gusi = gus.fillna('unknown')\n",
    "gusi[gusi['Harapan Anda'] == 'unknown'].count()/gusi.count()"
   ]
  },
  {
   "cell_type": "code",
   "execution_count": 322,
   "metadata": {},
   "outputs": [
    {
     "data": {
      "text/plain": [
       "CaRek Pilihan    0.466667\n",
       "Harapan Anda     0.466667\n",
       "dtype: float64"
      ]
     },
     "execution_count": 322,
     "metadata": {},
     "output_type": "execute_result"
    }
   ],
   "source": [
    "jaki = jak.fillna('unknown')\n",
    "jaki[jaki['Harapan Anda'] == 'unknown'].count()/jaki.count()"
   ]
  },
  {
   "cell_type": "code",
   "execution_count": 323,
   "metadata": {},
   "outputs": [
    {
     "data": {
      "text/plain": [
       "CaRek Pilihan    0.6\n",
       "Harapan Anda     0.6\n",
       "dtype: float64"
      ]
     },
     "execution_count": 323,
     "metadata": {},
     "output_type": "execute_result"
    }
   ],
   "source": [
    "reii = rei.fillna('unknown')\n",
    "reii[reii['Harapan Anda'] == 'unknown'].count()/reii.count()"
   ]
  },
  {
   "cell_type": "code",
   "execution_count": 324,
   "metadata": {},
   "outputs": [
    {
     "data": {
      "text/plain": [
       "CaRek Pilihan    0.571429\n",
       "Harapan Anda     0.571429\n",
       "dtype: float64"
      ]
     },
     "execution_count": 324,
     "metadata": {},
     "output_type": "execute_result"
    }
   ],
   "source": [
    "togi = tog.fillna('unknown')\n",
    "togi[togi['Harapan Anda'] == 'unknown'].count()/togi.count()"
   ]
  },
  {
   "cell_type": "code",
   "execution_count": 325,
   "metadata": {},
   "outputs": [
    {
     "data": {
      "text/plain": [
       "CaRek Pilihan    0.181818\n",
       "Harapan Anda     0.181818\n",
       "dtype: float64"
      ]
     },
     "execution_count": 325,
     "metadata": {},
     "output_type": "execute_result"
    }
   ],
   "source": [
    "widi = wid.fillna('unknown')\n",
    "widi[widi['Harapan Anda'] == 'unknown'].count()/widi.count()"
   ]
  },
  {
   "cell_type": "code",
   "execution_count": 359,
   "metadata": {},
   "outputs": [
    {
     "data": {
      "text/plain": [
       "<matplotlib.axes._subplots.AxesSubplot at 0x230a0b08668>"
      ]
     },
     "execution_count": 359,
     "metadata": {},
     "output_type": "execute_result"
    },
    {
     "data": {
      "image/png": "[encoded data removed]",
      "text/plain": [
       "<Figure size 432x288 with 1 Axes>"
      ]
     },
     "metadata": {
      "needs_background": "light"
     },
     "output_type": "display_data"
    }
   ],
   "source": [
    "n_groups = 10\n",
    "rat = (0.811146, 0.54067, 0.54, 0.404762, 0.333333, 0.444444, 0.466667, 0,.6, 0.571429, 0.181818)\n",
    "\n",
    "ratio = pd.DataFrame({\"CaRek Pilihan\":['Kadarsah Suryadi (FTI-TI)','Edy Tri Baskoro (FMIPA-MA)','Benyamin Sapiie (FITB)','Bramantyo (Direktur PPM Manajemen)','Dwi Larso (SBM / President Univ)','Gusti Ayu Putri Saptawati S (STEI)','Jaka Sembiring (STEI)','Reini D Wirahadikusumah (FTSL)','Togar M Simatupang (SBM)','Widjaja Martokusumo (SAPPK)'], \"ratio\":[0.811146, 0.54067, 0.54, 0.404762, 0.333333, 0.444444, 0.466667, 0.6, 0.571429, 0.181818]})\n",
    "ratio.plot.bar(x='CaRek Pilihan', y='ratio', rot=90 , color=['black', 'red', 'orange','green','blue', 'purple', 'cyan', 'yellow', 'pink', 'brown'], edgecolor='blue')"
   ]
  },
  {
   "cell_type": "code",
   "execution_count": null,
   "metadata": {},
   "outputs": [],
   "source": []
  }
 ],
 "metadata": {
  "kernelspec": {
   "display_name": "Python 3",
   "language": "python",
   "name": "python3"
  },
  "language_info": {
   "codemirror_mode": {
    "name": "ipython",
    "version": 3
   },
   "file_extension": ".py",
   "mimetype": "text/x-python",
   "name": "python",
   "nbconvert_exporter": "python",
   "pygments_lexer": "ipython3",
   "version": "3.7.3"
  },
  "toc": {
   "base_numbering": 1,
   "nav_menu": {},
   "number_sections": true,
   "sideBar": true,
   "skip_h1_title": false,
   "title_cell": "Table of Contents",
   "title_sidebar": "Contents",
   "toc_cell": false,
   "toc_position": {},
   "toc_section_display": true,
   "toc_window_display": false
  }
 },
 "nbformat": 4,
 "nbformat_minor": 2
}
