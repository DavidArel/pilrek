{
 "cells": [
  {
   "cell_type": "markdown",
   "metadata": {},
   "source": [
    "UTS PEMROGRAMAN LANJUT <br>\n",
    "GELAR PAMBUDI A. / 18117020 <br>\n",
    "M. TAUFIQ RAFIANDI / 18117035"
   ]
  },
  {
   "cell_type": "code",
   "execution_count": 2,
   "metadata": {},
   "outputs": [],
   "source": [
    "import pandas as pd\n",
    "import matplotlib.pyplot as plt\n",
    "%matplotlib inline"
   ]
  },
  {
   "cell_type": "code",
   "execution_count": 3,
   "metadata": {},
   "outputs": [],
   "source": [
    "df_anon = pd.read_csv('D:\\Kuliah\\Pemrograman Lanjut\\pilrek\\pilrek-anon.csv')"
   ]
  },
  {
   "cell_type": "code",
   "execution_count": 4,
   "metadata": {},
   "outputs": [
    {
     "data": {
      "text/plain": [
       "Kadarsah Suryadi (FTI-TI)                  322\n",
       "Tutuka Ariaji (FTTM-TM)                    280\n",
       "Acep Purqon (FMIPA-FI)                     240\n",
       "Edy Tri Baskoro (FMIPA-MA)                 209\n",
       "Khairurrijal (FMIPA-FI)                    129\n",
       "Dicky Rezady Munaf (FSRD)                  112\n",
       "Emir Mauludi Husni (STEI)                   96\n",
       "Sigit Puji Santosa (FTMD)                   93\n",
       "Deddy Kurniadi (FTI-TF)                     91\n",
       "Benyamin Sapiie (FITB)                      50\n",
       "Suhono Harso Supangkat (STEI)               42\n",
       "Bramantyo (Direktur PPM Manajemen)          42\n",
       "Dewi Larasati (SAPPK)                       41\n",
       "Ary Setiaji Prihatmanto (STEI)              32\n",
       "Bambang Riyanto T (STEI)                    30\n",
       "Mikrajuddin Abdullah (FMIPA-FI)             28\n",
       "Satria Bijaksana (FTTM)                     28\n",
       "Edwan Kardena (FTSL)                        20\n",
       "Jaka Sembiring (STEI)                       15\n",
       "Togar M Simatupang (SBM)                    14\n",
       "Andang Bachtiar (Direktur Aeksplorasi )     14\n",
       "Dwi Larso (SBM / President Univ)            12\n",
       "Rangga Handika (Pengusaha)                  11\n",
       "Widjaja Martokusumo (SAPPK)                 11\n",
       "Megawati Santoso (FMIPA-KI)                 11\n",
       "Gusti Ayu Putri Saptawati S (STEI)           9\n",
       "Miming Miharja (SAPPK-PL)                    7\n",
       "Dermawan Wibisono (SBM)                      6\n",
       "Kuntoro Pinardi  (Konsultan)                 5\n",
       "Reini D Wirahadikusumah (FTSL)               5\n",
       "Teti Amiati Argo (SAPPK)                     3\n",
       "I Nyoman Pugeg Aryantha (SITH)               3\n",
       "Sumarsono (CEO PT xxx)                       2\n",
       "Daryono Hadi Tjahjono (SF)                   1\n",
       "Name: CaRek Pilihan, dtype: int64"
      ]
     },
     "execution_count": 4,
     "metadata": {},
     "output_type": "execute_result"
    }
   ],
   "source": [
    "df_anon[\"CaRek Pilihan\"].value_counts()"
   ]
  },
  {
   "cell_type": "code",
   "execution_count": 5,
   "metadata": {},
   "outputs": [
    {
     "data": {
      "text/html": [
       "<div>\n",
       "<style scoped>\n",
       "    .dataframe tbody tr th:only-of-type {\n",
       "        vertical-align: middle;\n",
       "    }\n",
       "\n",
       "    .dataframe tbody tr th {\n",
       "        vertical-align: top;\n",
       "    }\n",
       "\n",
       "    .dataframe thead th {\n",
       "        text-align: right;\n",
       "    }\n",
       "</style>\n",
       "<table border=\"1\" class=\"dataframe\">\n",
       "  <thead>\n",
       "    <tr style=\"text-align: right;\">\n",
       "      <th></th>\n",
       "      <th>Timestamp</th>\n",
       "      <th>Kategori Anda</th>\n",
       "      <th>Kategori Umur Anda</th>\n",
       "      <th>CaRek Pilihan</th>\n",
       "      <th>Alasan Memilih CaRek</th>\n",
       "      <th>Harapan Anda</th>\n",
       "    </tr>\n",
       "  </thead>\n",
       "  <tbody>\n",
       "    <tr>\n",
       "      <th>2009</th>\n",
       "      <td>9/16/2019 16:07:41</td>\n",
       "      <td>Alumni</td>\n",
       "      <td>25 - 40 th</td>\n",
       "      <td>Dicky Rezady Munaf (FSRD)</td>\n",
       "      <td>Kapabilitas ybs utk memajukan riset dan indust...</td>\n",
       "      <td>Bapak Dicky Rezadi Munaf menjadi Rektor ITB  k...</td>\n",
       "    </tr>\n",
       "    <tr>\n",
       "      <th>2010</th>\n",
       "      <td>9/16/2019 16:08:51</td>\n",
       "      <td>Alumni</td>\n",
       "      <td>&lt; 25 th</td>\n",
       "      <td>Dicky Rezady Munaf (FSRD)</td>\n",
       "      <td>Keberhasilan dan prestasi</td>\n",
       "      <td>Smga bapak bisa lebih membawa ITB lebih di ken...</td>\n",
       "    </tr>\n",
       "    <tr>\n",
       "      <th>2011</th>\n",
       "      <td>9/16/2019 16:09:04</td>\n",
       "      <td>Alumni</td>\n",
       "      <td>25 - 40 th</td>\n",
       "      <td>Dicky Rezady Munaf (FSRD)</td>\n",
       "      <td>Kecerdasan dan keberanian utk kemajuan ITB</td>\n",
       "      <td>Bpk Dicky adalah seorang yg bijaksana,pekerja ...</td>\n",
       "    </tr>\n",
       "    <tr>\n",
       "      <th>2012</th>\n",
       "      <td>9/16/2019 17:14:53</td>\n",
       "      <td>Umum</td>\n",
       "      <td>&lt; 25 th</td>\n",
       "      <td>Bramantyo (Direktur PPM Manajemen)</td>\n",
       "      <td>Kecerdasan dan keberanian utk kemajuan ITB</td>\n",
       "      <td>NaN</td>\n",
       "    </tr>\n",
       "    <tr>\n",
       "      <th>2013</th>\n",
       "      <td>9/17/2019 7:28:30</td>\n",
       "      <td>Dosen</td>\n",
       "      <td>&gt; 40 th</td>\n",
       "      <td>Sigit Puji Santosa (FTMD)</td>\n",
       "      <td>Intelektualitasnya luar biasa; rendah hati, na...</td>\n",
       "      <td>ITB mendapatkan Rektor seperti di atas untuk d...</td>\n",
       "    </tr>\n",
       "  </tbody>\n",
       "</table>\n",
       "</div>"
      ],
      "text/plain": [
       "               Timestamp Kategori Anda Kategori Umur Anda  \\\n",
       "2009  9/16/2019 16:07:41        Alumni         25 - 40 th   \n",
       "2010  9/16/2019 16:08:51        Alumni            < 25 th   \n",
       "2011  9/16/2019 16:09:04        Alumni         25 - 40 th   \n",
       "2012  9/16/2019 17:14:53          Umum            < 25 th   \n",
       "2013   9/17/2019 7:28:30         Dosen            > 40 th   \n",
       "\n",
       "                           CaRek Pilihan  \\\n",
       "2009           Dicky Rezady Munaf (FSRD)   \n",
       "2010           Dicky Rezady Munaf (FSRD)   \n",
       "2011           Dicky Rezady Munaf (FSRD)   \n",
       "2012  Bramantyo (Direktur PPM Manajemen)   \n",
       "2013           Sigit Puji Santosa (FTMD)   \n",
       "\n",
       "                                   Alasan Memilih CaRek  \\\n",
       "2009  Kapabilitas ybs utk memajukan riset dan indust...   \n",
       "2010                          Keberhasilan dan prestasi   \n",
       "2011         Kecerdasan dan keberanian utk kemajuan ITB   \n",
       "2012         Kecerdasan dan keberanian utk kemajuan ITB   \n",
       "2013  Intelektualitasnya luar biasa; rendah hati, na...   \n",
       "\n",
       "                                           Harapan Anda  \n",
       "2009  Bapak Dicky Rezadi Munaf menjadi Rektor ITB  k...  \n",
       "2010  Smga bapak bisa lebih membawa ITB lebih di ken...  \n",
       "2011  Bpk Dicky adalah seorang yg bijaksana,pekerja ...  \n",
       "2012                                                NaN  \n",
       "2013  ITB mendapatkan Rektor seperti di atas untuk d...  "
      ]
     },
     "execution_count": 5,
     "metadata": {},
     "output_type": "execute_result"
    }
   ],
   "source": [
    "df_anon.tail()"
   ]
  },
  {
   "cell_type": "code",
   "execution_count": 6,
   "metadata": {},
   "outputs": [],
   "source": [
    "date_rng = [\"2019-09-01\", \"2019-09-02\", \"2019-09-03\", \"2019-09-04\" , \"2019-09-05\",\n",
    "           \"2019-09-06\", \"2019-09-07\", \"2019-09-08\", \"2019-09-09\" , \"2019-09-10\",\n",
    "           \"2019-09-11\", \"2019-09-12\", \"2019-09-13\", \"2019-09-14\" , \"2019-09-15\",\n",
    "           \"2019-09-16\", \"2019-09-17\"]\n",
    "df_anon['Timestamp'] = pd.to_datetime(df_anon['Timestamp'])\n",
    "df_anon['dates'] = df_anon['Timestamp'].dt.date"
   ]
  },
  {
   "cell_type": "code",
   "execution_count": 8,
   "metadata": {},
   "outputs": [],
   "source": [
    "kadarsah = []\n",
    "acep = []\n",
    "edy = []\n",
    "kadarsah_exists = False\n",
    "acep_exists = False\n",
    "edy_exists = False\n",
    "for i in date_rng:\n",
    "    time = df_anon.groupby(\"dates\").get_group(i)\n",
    "    for name in time[\"CaRek Pilihan\"]:\n",
    "        if name != \"Kadarsah Suryadi (FTI-TI)\":\n",
    "            kadarsah_exists = False\n",
    "        else:\n",
    "            kadarsah_exists = True\n",
    "            break           \n",
    "    if kadarsah_exists:\n",
    "        kadarsah.append(time.groupby(\"CaRek Pilihan\").get_group(\"Kadarsah Suryadi (FTI-TI)\")[\"CaRek Pilihan\"].count())\n",
    "    else :\n",
    "        kadarsah.append(0)\n",
    "    \n",
    "    \n",
    "    for name in time[\"CaRek Pilihan\"]:\n",
    "        if name != \"Acep Purqon (FMIPA-FI)\":\n",
    "            acep_exists = False\n",
    "        else:\n",
    "            acep_exists = True\n",
    "            break         \n",
    "    if acep_exists:\n",
    "        acep.append(time.groupby(\"CaRek Pilihan\").get_group(\"Acep Purqon (FMIPA-FI)\")[\"CaRek Pilihan\"].count())\n",
    "    else:\n",
    "        acep.append(0)\n",
    "        \n",
    "        \n",
    "    for name in time[\"CaRek Pilihan\"]:\n",
    "        if name != \"Edy Tri Baskoro (FMIPA-MA)\":\n",
    "            edy_exists = False\n",
    "        else:\n",
    "            edy_exists = True\n",
    "            break\n",
    "    if edy_exists:\n",
    "        edy.append(time.groupby(\"CaRek Pilihan\").get_group(\"Edy Tri Baskoro (FMIPA-MA)\")[\"CaRek Pilihan\"].count())\n",
    "    else :\n",
    "        edy.append(0)"
   ]
  },
  {
   "cell_type": "code",
   "execution_count": 9,
   "metadata": {},
   "outputs": [],
   "source": [
    "new_kadarsah = []\n",
    "new_acep = []\n",
    "new_edy = []\n",
    "value1 = 0\n",
    "value2 = 0\n",
    "value3 = 0\n",
    "\n",
    "for i in range(0,len(date_rng)):\n",
    "    value1 = value1 + kadarsah[i]\n",
    "    value2 = value2 + acep[i]\n",
    "    value3 = value3 + edy[i]\n",
    "    new_kadarsah.append(value1)\n",
    "    new_acep.append(value2)\n",
    "    new_edy.append(value3)"
   ]
  },
  {
   "cell_type": "code",
   "execution_count": 10,
   "metadata": {},
   "outputs": [
    {
     "data": {
      "image/png": "[encoded data removed]",
      "text/plain": [
       "<matplotlib.figure.Figure at 0x19ba78aba20>"
      ]
     },
     "metadata": {
      "needs_background": "light"
     },
     "output_type": "display_data"
    }
   ],
   "source": [
    "plt.xticks(rotation=90)\n",
    "plt.plot(date_rng, new_kadarsah, label = \"Kadarsah Suryadi\")\n",
    "plt.plot(date_rng, new_acep, label = \"Acep Purqon\")\n",
    "plt.plot(date_rng, new_edy, label = \"Edy Tri Baskoro\")\n",
    "plt.legend()\n",
    "plt.show()"
   ]
  },
  {
   "cell_type": "code",
   "execution_count": 11,
   "metadata": {},
   "outputs": [
    {
     "data": {
      "text/html": [
       "<div>\n",
       "<style scoped>\n",
       "    .dataframe tbody tr th:only-of-type {\n",
       "        vertical-align: middle;\n",
       "    }\n",
       "\n",
       "    .dataframe tbody tr th {\n",
       "        vertical-align: top;\n",
       "    }\n",
       "\n",
       "    .dataframe thead th {\n",
       "        text-align: right;\n",
       "    }\n",
       "</style>\n",
       "<table border=\"1\" class=\"dataframe\">\n",
       "  <thead>\n",
       "    <tr style=\"text-align: right;\">\n",
       "      <th></th>\n",
       "      <th>Acep Purqon</th>\n",
       "      <th>Edy Tri Baskoro</th>\n",
       "      <th>Kadarsah Suryadi</th>\n",
       "    </tr>\n",
       "  </thead>\n",
       "  <tbody>\n",
       "    <tr>\n",
       "      <th>2019-09-01</th>\n",
       "      <td>99</td>\n",
       "      <td>3</td>\n",
       "      <td>14</td>\n",
       "    </tr>\n",
       "    <tr>\n",
       "      <th>2019-09-02</th>\n",
       "      <td>129</td>\n",
       "      <td>93</td>\n",
       "      <td>28</td>\n",
       "    </tr>\n",
       "    <tr>\n",
       "      <th>2019-09-03</th>\n",
       "      <td>172</td>\n",
       "      <td>141</td>\n",
       "      <td>271</td>\n",
       "    </tr>\n",
       "    <tr>\n",
       "      <th>2019-09-04</th>\n",
       "      <td>213</td>\n",
       "      <td>169</td>\n",
       "      <td>317</td>\n",
       "    </tr>\n",
       "    <tr>\n",
       "      <th>2019-09-05</th>\n",
       "      <td>223</td>\n",
       "      <td>181</td>\n",
       "      <td>319</td>\n",
       "    </tr>\n",
       "    <tr>\n",
       "      <th>2019-09-06</th>\n",
       "      <td>225</td>\n",
       "      <td>184</td>\n",
       "      <td>320</td>\n",
       "    </tr>\n",
       "    <tr>\n",
       "      <th>2019-09-07</th>\n",
       "      <td>225</td>\n",
       "      <td>186</td>\n",
       "      <td>320</td>\n",
       "    </tr>\n",
       "    <tr>\n",
       "      <th>2019-09-08</th>\n",
       "      <td>225</td>\n",
       "      <td>187</td>\n",
       "      <td>321</td>\n",
       "    </tr>\n",
       "    <tr>\n",
       "      <th>2019-09-09</th>\n",
       "      <td>227</td>\n",
       "      <td>187</td>\n",
       "      <td>321</td>\n",
       "    </tr>\n",
       "    <tr>\n",
       "      <th>2019-09-10</th>\n",
       "      <td>228</td>\n",
       "      <td>188</td>\n",
       "      <td>321</td>\n",
       "    </tr>\n",
       "    <tr>\n",
       "      <th>2019-09-11</th>\n",
       "      <td>230</td>\n",
       "      <td>189</td>\n",
       "      <td>322</td>\n",
       "    </tr>\n",
       "    <tr>\n",
       "      <th>2019-09-12</th>\n",
       "      <td>237</td>\n",
       "      <td>189</td>\n",
       "      <td>322</td>\n",
       "    </tr>\n",
       "    <tr>\n",
       "      <th>2019-09-13</th>\n",
       "      <td>239</td>\n",
       "      <td>189</td>\n",
       "      <td>322</td>\n",
       "    </tr>\n",
       "    <tr>\n",
       "      <th>2019-09-14</th>\n",
       "      <td>239</td>\n",
       "      <td>205</td>\n",
       "      <td>322</td>\n",
       "    </tr>\n",
       "    <tr>\n",
       "      <th>2019-09-15</th>\n",
       "      <td>240</td>\n",
       "      <td>208</td>\n",
       "      <td>322</td>\n",
       "    </tr>\n",
       "    <tr>\n",
       "      <th>2019-09-16</th>\n",
       "      <td>240</td>\n",
       "      <td>209</td>\n",
       "      <td>322</td>\n",
       "    </tr>\n",
       "    <tr>\n",
       "      <th>2019-09-17</th>\n",
       "      <td>240</td>\n",
       "      <td>209</td>\n",
       "      <td>322</td>\n",
       "    </tr>\n",
       "  </tbody>\n",
       "</table>\n",
       "</div>"
      ],
      "text/plain": [
       "            Acep Purqon  Edy Tri Baskoro  Kadarsah Suryadi\n",
       "2019-09-01           99                3                14\n",
       "2019-09-02          129               93                28\n",
       "2019-09-03          172              141               271\n",
       "2019-09-04          213              169               317\n",
       "2019-09-05          223              181               319\n",
       "2019-09-06          225              184               320\n",
       "2019-09-07          225              186               320\n",
       "2019-09-08          225              187               321\n",
       "2019-09-09          227              187               321\n",
       "2019-09-10          228              188               321\n",
       "2019-09-11          230              189               322\n",
       "2019-09-12          237              189               322\n",
       "2019-09-13          239              189               322\n",
       "2019-09-14          239              205               322\n",
       "2019-09-15          240              208               322\n",
       "2019-09-16          240              209               322\n",
       "2019-09-17          240              209               322"
      ]
     },
     "execution_count": 11,
     "metadata": {},
     "output_type": "execute_result"
    }
   ],
   "source": [
    "carek = {'Kadarsah Suryadi' : new_kadarsah, 'Acep Purqon' : new_acep, 'Edy Tri Baskoro' : new_edy}\n",
    "df_carek = pd.DataFrame(carek, index = date_rng)\n",
    "df_carek"
   ]
  },
  {
   "cell_type": "code",
   "execution_count": 12,
   "metadata": {},
   "outputs": [
    {
     "name": "stderr",
     "output_type": "stream",
     "text": [
      "D:\\Anaconda3\\envs\\mentoring_rm_3\\lib\\site-packages\\pandas\\plotting\\_core.py:1716: UserWarning: Pandas doesn't allow columns to be created via a new attribute name - see https://pandas.pydata.org/pandas-docs/stable/indexing.html#attribute-access\n",
      "  series.name = label\n"
     ]
    },
    {
     "data": {
      "text/plain": [
       "<matplotlib.axes._subplots.AxesSubplot at 0x19ba78abeb8>"
      ]
     },
     "execution_count": 12,
     "metadata": {},
     "output_type": "execute_result"
    },
    {
     "data": {
      "image/png": "[encoded data removed]",
      "text/plain": [
       "<matplotlib.figure.Figure at 0x19ba99504e0>"
      ]
     },
     "metadata": {
      "needs_background": "light"
     },
     "output_type": "display_data"
    }
   ],
   "source": [
    "df_carek.plot(kind = 'bar', y = ['Kadarsah Suryadi', 'Acep Purqon', 'Edy Tri Baskoro'])"
   ]
  },
  {
   "cell_type": "code",
   "execution_count": 20,
   "metadata": {},
   "outputs": [
    {
     "data": {
      "text/plain": [
       "Keberhasilan dan prestasi                                                 27\n",
       "Program ybs utk peningkatan income dan kesejahteraan dosen / pegawai      17\n",
       "Kapabilitas ybs utk meningkatkan ranking ITB                              15\n",
       "Sesuai dengan kriteria kekinian (Rektor 4.0)                              13\n",
       "Kecerdasan dan keberanian utk kemajuan ITB                                 7\n",
       "Kapabilitas ybs utk memajukan riset dan industri RI                        7\n",
       "Muda dan berenergi                                                         6\n",
       "Karakter kepemimpinan dan leadership                                       6\n",
       "Akhlak dan budi pekerti                                                    5\n",
       "Emansipasi, kesetaraan dan kebhinekaan                                     1\n",
       "Mendatangkan dana riset dan kerjasama eksternal, dalam dan luar negeri     1\n",
       "Name: Alasan Memilih CaRek, dtype: int64"
      ]
     },
     "execution_count": 20,
     "metadata": {},
     "output_type": "execute_result"
    }
   ],
   "source": [
    "df_umur25 = df_anon.groupby(\"Kategori Umur Anda\").get_group(\"25 - 40 th\")\n",
    "df_alasan_kadarsah = df_umur25.groupby(\"CaRek Pilihan\").get_group(\"Kadarsah Suryadi (FTI-TI)\")[\"Alasan Memilih CaRek\"].value_counts()\n",
    "df_alasan_kadarsah"
   ]
  },
  {
   "cell_type": "code",
   "execution_count": 19,
   "metadata": {},
   "outputs": [
    {
     "data": {
      "text/plain": [
       "<matplotlib.axes._subplots.AxesSubplot at 0x19ba9a10e10>"
      ]
     },
     "execution_count": 19,
     "metadata": {},
     "output_type": "execute_result"
    },
    {
     "data": {
      "image/png": "[encoded data removed]",
      "text/plain": [
       "<matplotlib.figure.Figure at 0x19ba9a563c8>"
      ]
     },
     "metadata": {
      "needs_background": "light"
     },
     "output_type": "display_data"
    }
   ],
   "source": [
    "df_alasan_kadarsah.plot(kind = \"bar\")"
   ]
  }
 ],
 "metadata": {
  "kernelspec": {
   "display_name": "Python 3",
   "language": "python",
   "name": "python3"
  },
  "language_info": {
   "codemirror_mode": {
    "name": "ipython",
    "version": 3
   },
   "file_extension": ".py",
   "mimetype": "text/x-python",
   "name": "python",
   "nbconvert_exporter": "python",
   "pygments_lexer": "ipython3",
   "version": "3.5.6"
  }
 },
 "nbformat": 4,
 "nbformat_minor": 2
}
